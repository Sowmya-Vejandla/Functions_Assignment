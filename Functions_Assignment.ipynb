{
 "cells": [
  {
   "cell_type": "raw",
   "id": "e5ddaf3d",
   "metadata": {},
   "source": [
    "1. In Python, both built-in functions and user-defined functions are used to perform some specific tasks.\n",
    "\n",
    "Built-in functions:\n",
    "\n",
    "Built-in functions are the part of the Python standard library and are available for use without the need for explicit definition.\n",
    "\n",
    "Examples of predefined functions are 'len()', 'type()', 'print()'\n",
    "\n",
    "User-defined functions:\n",
    "\n",
    "User-defined functions are functions that are defined by the user to perform specific tasks by using the def keyword followed by a function name, parameters, a colon, and a block of code.\n",
    "\n",
    "Users can define their own functions for reusable piece of code.\n"
   ]
  },
  {
   "cell_type": "code",
   "execution_count": 1,
   "id": "d3ac4008",
   "metadata": {},
   "outputs": [
    {
     "name": "stdout",
     "output_type": "stream",
     "text": [
      "5\n",
      "27\n"
     ]
    }
   ],
   "source": [
    "#example of built-in function\n",
    "\n",
    "l=[1,2,3,4,5]\n",
    "\n",
    "print(len(l))\n",
    "\n",
    "#example of user defined function\n",
    "\n",
    "def addition(a,b):\n",
    "    return a+b\n",
    "\n",
    "a=addition(13,14) #here we called the function by assigning a variable to the function\n",
    "print(a)"
   ]
  },
  {
   "cell_type": "raw",
   "id": "4d4f7826",
   "metadata": {},
   "source": [
    "2. \n",
    "\n",
    "Positional arguments:\n",
    "\n",
    "Positional arguments are passed to a function based on their order in the function call.\n",
    "The order of the arguments in the function call must match the order in which the parameters are defined in the function signature.\n",
    "\n",
    "Keyword Arguments:\n",
    "\n",
    "Keyword arguments allow you to pass values to a function by explicitly specifying the parameter names in the function call.\n",
    "The method allows you to pass the arguments in any order, regardless of their position in the function signature.\n"
   ]
  },
  {
   "cell_type": "code",
   "execution_count": 2,
   "id": "b32fa525",
   "metadata": {},
   "outputs": [
    {
     "name": "stdout",
     "output_type": "stream",
     "text": [
      "27\n",
      "Hello, my name is Wonwoo and I am 27 years old.\n"
     ]
    }
   ],
   "source": [
    "#Example of positional argument:\n",
    "\n",
    "def add_numbers(a, b):\n",
    "    return a + b\n",
    "\n",
    "result = add_numbers(13, 14) #here 3 is assigned to a and 14 is assigned to b based on their order in the function call\n",
    "print(result)  \n",
    "\n",
    "#Example of keyword argument:\n",
    "\n",
    "def greet(name, age):\n",
    "    print(f\"Hello, my name is {name} and I am {age} years old.\")\n",
    "\n",
    "greet(age=27, name=\"Wonwoo\") #name=\"Wonwoo\" and age=27 are keyword arguments and their order in the function call doesn't matter."
   ]
  },
  {
   "cell_type": "code",
   "execution_count": 4,
   "id": "8466b332",
   "metadata": {},
   "outputs": [
    {
     "name": "stdout",
     "output_type": "stream",
     "text": [
      "Positive\n",
      "Negative\n",
      "Zero\n"
     ]
    }
   ],
   "source": [
    "3.\n",
    "\n",
    "\"\"\"The return statement in a function in Python is used to specify the value that the function should output or provide back to the caller. \n",
    "When a return statement is encountered, the function execution stops, and the specified value is sent back to the caller and yes the function can have multiple return statements.\n",
    "The return statement also acts as a way to exit the function. Once a return statement is executed, the function terminates, and any subsequent code in the function is not executed.\"\"\"\n",
    "\n",
    "#Example \n",
    "\n",
    "def number(num):\n",
    "    if num>0:\n",
    "        return \"Positive\"\n",
    "    if num<0:\n",
    "        return \"Negative\"\n",
    "    else:\n",
    "        return \"Zero\"\n",
    "    \n",
    "    \n",
    "a=number(5) #Given number is positive so returns Positive\n",
    "b=number(-5) #number is negative so return Negative\n",
    "c=number(0) #number is neither positive nor negative and it is zero so returns zero\n",
    "\n",
    "print(a)\n",
    "print(b)\n",
    "print(c)\n"
   ]
  },
  {
   "cell_type": "code",
   "execution_count": 6,
   "id": "413c0737",
   "metadata": {},
   "outputs": [
    {
     "name": "stdout",
     "output_type": "stream",
     "text": [
      "9\n",
      "9\n"
     ]
    },
    {
     "data": {
      "text/plain": [
       "\"In the above, the regular function square and the lambda function sq_lambda both perform the same task of squaring a number.\\nHowever, the lambda function is more concise and doesn't require a separate function definition.\""
      ]
     },
     "execution_count": 6,
     "metadata": {},
     "output_type": "execute_result"
    }
   ],
   "source": [
    "4.\n",
    "\n",
    "\"\"\"Lambda functions in Python are anonymous functions also known as lambda expressions.\n",
    "They are defined using the lambda keyword and are typically used for short-term operations where a full function definition is not necessary.\n",
    "Lambda functions are often employed for tasks that requires a simple function for a short period and don't require a formal function definition using the def keyword.\"\"\"\n",
    "\n",
    "#Example of regular function\n",
    "\n",
    "def square(x):\n",
    "    return x**2\n",
    "\n",
    "a = square(3)\n",
    "print(a)\n",
    "\n",
    "#Example of lambda function\n",
    "\n",
    "sq_lambda=lambda x:x**2\n",
    "\n",
    "r_lambda= sq_lambda(3)\n",
    "print(r_lambda)\n",
    "\n",
    "\"\"\"In the above, the regular function square and the lambda function sq_lambda both perform the same task of squaring a number.\n",
    "However, the lambda function is more concise and doesn't require a separate function definition.\"\"\""
   ]
  },
  {
   "cell_type": "raw",
   "id": "9fb8df8c",
   "metadata": {},
   "source": [
    "5. 'Scope' refers to the region of a program where a variable is recognized or accessible. The scope of a variable determines where it can be used or modified within the code.\n",
    "\n",
    "(i) Local Scope:\n",
    "\n",
    "Local scope refers to the region within a function where a variable is defined.\n",
    "Variables defined inside a function are local to that function and are not accessible outside of it.\n",
    "Once the function execution completes, the local variables are destroyed, and their values are not retained.\n",
    "\n",
    "(ii) Global Scope:\n",
    "\n",
    "Global scope refers to the outisde of any function.\n",
    "Variables defined outside a function are global to that function and are accessible outside of it.\n",
    "Once the function execution completes, the local variables are destroyed, and their values are not retained.\n",
    "\n"
   ]
  },
  {
   "cell_type": "code",
   "execution_count": 7,
   "id": "3ecdae9d",
   "metadata": {},
   "outputs": [
    {
     "name": "stdout",
     "output_type": "stream",
     "text": [
      "10\n"
     ]
    }
   ],
   "source": [
    "#Example of local variable\n",
    "\n",
    "def func():\n",
    "    x=10   #local variable\n",
    "    print(x)\n",
    "    \n",
    "func()"
   ]
  },
  {
   "cell_type": "code",
   "execution_count": 10,
   "id": "e5e3f1c2",
   "metadata": {},
   "outputs": [
    {
     "name": "stdout",
     "output_type": "stream",
     "text": [
      "20\n",
      "20\n"
     ]
    }
   ],
   "source": [
    "#Example of global variable\n",
    "\n",
    "y = 20  # Global variable\n",
    "\n",
    "def func1():\n",
    "    # Accessing the global variable\n",
    "    print(y)\n",
    "\n",
    "func1()\n",
    "print(y)"
   ]
  },
  {
   "cell_type": "code",
   "execution_count": 11,
   "id": "41827419",
   "metadata": {},
   "outputs": [
    {
     "name": "stdout",
     "output_type": "stream",
     "text": [
      "10\n",
      "Hello\n",
      "[1, 2, 3]\n"
     ]
    }
   ],
   "source": [
    "#6. In Python, a function can use the return statement to return multiple values by separating them with commas.\n",
    "\n",
    "def multiple_values():\n",
    "    value1 = 10\n",
    "    value2 = \"Hello\"\n",
    "    value3 = [1, 2, 3]\n",
    "    \n",
    "    return value1, value2, value3\n",
    "\n",
    "# Calling the function and unpacking the returned tuple\n",
    "result1, result2, result3=multiple_values()\n",
    "\n",
    "print(result1)  \n",
    "print(result2)  \n",
    "print(result3) "
   ]
  },
  {
   "cell_type": "raw",
   "id": "b71dcc1d",
   "metadata": {},
   "source": [
    "7.\n",
    "\n",
    "Pass by Value:\n",
    "\n",
    "In this, the value of the actual parameter is copied to the formal parameter.\n",
    "Modifications made to the formal parameter within the function do not affect the actual parameter outside the function.\n",
    "\n",
    "Pass by Reference:\n",
    "\n",
    "In this, the memory address of the actual parameter is passed to the formal parameter.\n",
    "Modifications made to the formal parameter within the function affect the actual parameter outside the function."
   ]
  },
  {
   "cell_type": "code",
   "execution_count": 12,
   "id": "7010338c",
   "metadata": {},
   "outputs": [
    {
     "name": "stdout",
     "output_type": "stream",
     "text": [
      "Logarithmic result: 1.0986122886681098\n",
      "Exponential result: 20.085536923187668\n",
      "Power result (2^3.0): 8.0\n",
      "Square root result: 1.7320508075688772\n"
     ]
    }
   ],
   "source": [
    "8.\n",
    "\n",
    "import math\n",
    "\n",
    "def math_operations(x):\n",
    "    try:\n",
    "       \n",
    "        logarithmic_result = math.log(x)  # Logarithmic function\n",
    "        \n",
    "        exponential_result = math.exp(x) # Exponential function\n",
    "        \n",
    "        power_result = math.pow(2, x) # Power function with base 2 (2^x)\n",
    "\n",
    "        square_root_result = math.sqrt(x) # Square root\n",
    "\n",
    "        return logarithmic_result, exponential_result, power_result, square_root_result\n",
    "\n",
    "    except ValueError:\n",
    "        return \"Invalid input. Ensure x is a positive value for logarithmic and square root operations.\"\n",
    "\n",
    "input_value = 3.0\n",
    "results = math_operations(input_value)\n",
    "\n",
    "print(f\"Logarithmic result: {results[0]}\")\n",
    "print(f\"Exponential result: {results[1]}\")\n",
    "print(f\"Power result (2^{input_value}): {results[2]}\")\n",
    "print(f\"Square root result: {results[3]}\")\n"
   ]
  },
  {
   "cell_type": "code",
   "execution_count": 19,
   "id": "098bec1b",
   "metadata": {},
   "outputs": [
    {
     "name": "stdout",
     "output_type": "stream",
     "text": [
      "First Name: Jeon\n",
      "Last Name: Wonwoo\n"
     ]
    }
   ],
   "source": [
    "def split_full_name(full_name):\n",
    "    \n",
    "    names = full_name.split()\n",
    "\n",
    "    \n",
    "    if len(names) == 1:\n",
    "        first_name = names[0]\n",
    "        last_name = \"\"\n",
    "    else:\n",
    "        first_name = names[0]\n",
    "        last_name = ' '.join(names[1:])\n",
    "\n",
    "    return first_name, last_name\n",
    "\n",
    "# Example usage:\n",
    "full_name_input = \"Jeon Wonwoo\"\n",
    "first_name, last_name = split_full_name(full_name_input)\n",
    "\n",
    "print(f\"First Name: {first_name}\")\n",
    "print(f\"Last Name: {last_name}\")"
   ]
  }
 ],
 "metadata": {
  "kernelspec": {
   "display_name": "Python 3 (ipykernel)",
   "language": "python",
   "name": "python3"
  },
  "language_info": {
   "codemirror_mode": {
    "name": "ipython",
    "version": 3
   },
   "file_extension": ".py",
   "mimetype": "text/x-python",
   "name": "python",
   "nbconvert_exporter": "python",
   "pygments_lexer": "ipython3",
   "version": "3.11.3"
  }
 },
 "nbformat": 4,
 "nbformat_minor": 5
}
